{
  "nbformat": 4,
  "nbformat_minor": 0,
  "metadata": {
    "colab": {
      "provenance": [],
      "machine_shape": "hm"
    },
    "kernelspec": {
      "name": "python3",
      "display_name": "Python 3"
    },
    "language_info": {
      "name": "python"
    }
  },
  "cells": [
    {
      "cell_type": "markdown",
      "source": [
        "Vamos a cargar todos nuestros csv desde drive, y vamos a juntar todos los archivos de cobros en un csv nuevo, los de pagos en otro, y para terminar, los de saldo."
      ],
      "metadata": {
        "id": "jHiadquBfP2c"
      }
    },
    {
      "cell_type": "code",
      "source": [
        "from google.colab import drive\n",
        "drive.mount('/content/drive')"
      ],
      "metadata": {
        "colab": {
          "base_uri": "https://localhost:8080/"
        },
        "id": "SWQmhQK3hsW7",
        "outputId": "f9cc88cf-4698-437a-ecf9-309009fb9a26"
      },
      "execution_count": 1,
      "outputs": [
        {
          "output_type": "stream",
          "name": "stdout",
          "text": [
            "Mounted at /content/drive\n"
          ]
        }
      ]
    },
    {
      "cell_type": "code",
      "source": [
        "import pandas as pd\n",
        "import os\n",
        "\n",
        "# Lista de nombres de archivos CSV que quiero combinar\n",
        "archivos_csv = ['COBROS1.csv','COBROS2.csv','COBROS3.csv']\n",
        "# Directorio donde se encuentran los archivos CSV\n",
        "directorio = '/content/drive/MyDrive/datosTFM'\n",
        "\n",
        "# Inicializo un DataFrame vacío para almacenar los datos combinados\n",
        "datos_combinados = pd.DataFrame()\n",
        "\n",
        "# Itero a través de los archivos CSV y los concatena en el DataFrame\n",
        "for archivo in archivos_csv:\n",
        "    ruta_archivo = os.path.join(directorio, archivo)\n",
        "    datos = pd.read_csv(ruta_archivo)\n",
        "    datos_combinados = pd.concat([datos_combinados, datos], ignore_index=True)\n",
        "\n",
        "# Guardo el DataFrame combinado en un nuevo archivo CSV\n",
        "datos_combinados.to_csv('cobros.csv', index=False)"
      ],
      "metadata": {
        "id": "E4YU-sSiT_f2"
      },
      "execution_count": 13,
      "outputs": []
    },
    {
      "cell_type": "code",
      "source": [
        "import pandas as pd"
      ],
      "metadata": {
        "id": "dZak649xikkb"
      },
      "execution_count": 2,
      "outputs": []
    },
    {
      "cell_type": "code",
      "source": [
        "df1=pd.read_csv('/content/drive/MyDrive/datosTFM/PAGOS3.csv',sep='|',decimal=',',encoding='utf-8')\n",
        "df2=pd.read_csv('/content/drive/MyDrive/datosTFM/PAGOS31.csv',sep='|',decimal=',',encoding='utf-8')\n",
        "df3=pd.read_csv('/content/drive/MyDrive/datosTFM/PAGOS32.csv',sep='|',decimal=',',encoding='utf-8')\n",
        "df4=pd.read_csv('/content/drive/MyDrive/datosTFM/PAGOS33.csv',sep='|',decimal=',',encoding='utf-8')\n",
        "df5=pd.read_csv('/content/drive/MyDrive/datosTFM/PAGOS34.csv',sep='|',decimal=',',encoding='utf-8')\n",
        "df6=pd.read_csv('/content/drive/MyDrive/datosTFM/PAGOS4.csv',sep='|',decimal=',',encoding='utf-8')"
      ],
      "metadata": {
        "id": "0-nWKwqSh-j9"
      },
      "execution_count": null,
      "outputs": []
    },
    {
      "cell_type": "code",
      "source": [
        "df7=pd.read_csv('/content/drive/MyDrive/datosTFM/PAGOS1.csv',sep='|',decimal=',',encoding='utf-8')\n",
        "df8=pd.read_csv('/content/drive/MyDrive/datosTFM/PAGOS2.csv',sep='|',decimal=',',encoding='utf-8')"
      ],
      "metadata": {
        "id": "rNQ1WRPdjgWD"
      },
      "execution_count": 4,
      "outputs": []
    },
    {
      "cell_type": "code",
      "source": [
        "resultado = pd.concat([df1, df2, df3,df4,df5,df6,df7,df8], axis=0, ignore_index=True)"
      ],
      "metadata": {
        "id": "hi9bGM7xjF6R"
      },
      "execution_count": 5,
      "outputs": []
    },
    {
      "cell_type": "code",
      "source": [
        "resultado.to_csv('PAGOS.csv', index=False)\n"
      ],
      "metadata": {
        "id": "vW_znknpjyat"
      },
      "execution_count": 7,
      "outputs": []
    },
    {
      "cell_type": "code",
      "source": [
        "df1=pd.read_csv('/content/drive/MyDrive/datosTFM/SALDOS1.csv',sep='|',decimal=',',encoding='utf-8')\n",
        "df2=pd.read_csv('/content/drive/MyDrive/datosTFM/SALDOS2.csv',sep='|',decimal=',',encoding='utf-8')\n",
        "df3=pd.read_csv('/content/drive/MyDrive/datosTFM/SALDOS3.csv',sep='|',decimal=',',encoding='utf-8')\n",
        "df4=pd.read_csv('/content/drive/MyDrive/datosTFM/SALDOS4.csv',sep='|',decimal=',',encoding='utf-8')\n",
        "df5=pd.read_csv('/content/drive/MyDrive/datosTFM/SALDOS5.csv',sep='|',decimal=',',encoding='utf-8')"
      ],
      "metadata": {
        "id": "cS-qfBMj3YOG"
      },
      "execution_count": 3,
      "outputs": []
    },
    {
      "cell_type": "code",
      "source": [
        "resultado1 = pd.concat([df1, df2, df3,df4,df5], axis=0, ignore_index=True)"
      ],
      "metadata": {
        "id": "NziKNJB83r_7"
      },
      "execution_count": 4,
      "outputs": []
    },
    {
      "cell_type": "code",
      "source": [
        "resultado1.to_csv('SALDOS.csv', index=False)"
      ],
      "metadata": {
        "id": "3X2LCX8d3wV2"
      },
      "execution_count": 6,
      "outputs": []
    },
    {
      "cell_type": "markdown",
      "source": [
        "Hemos añadido estos nuevos archivos csv, en drive también, para su posterior análasis en el siguiente archivo de google colab"
      ],
      "metadata": {
        "id": "b7zxDaU9gP5L"
      }
    }
  ]
}